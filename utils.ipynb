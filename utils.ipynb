{
 "cells": [
  {
   "cell_type": "code",
   "execution_count": 1,
   "id": "30cef6c6",
   "metadata": {},
   "outputs": [],
   "source": [
    "import matplotlib.pyplot as plt\n",
    "\n",
    "def plotWithSignals(chart,buy,sell,title=\"\"):\n",
    "    plt.rcParams[\"figure.figsize\"] = (15,3)\n",
    "    plt.plot(chart)\n",
    "    for i in sell:\n",
    "        plt.axvline(x = i, color = 'r', label = 'axvline - full height')\n",
    "    for i in buy:\n",
    "        plt.axvline(x = i, color = 'g', label = 'axvline - full height')\n",
    "    plt.title(title)\n",
    "    plt.show()\n",
    "    \n",
    "class ApiInformation():\n",
    "    def __init__(self,key,url):\n",
    "        self.api_key = key\n",
    "        self.api_url = url"
   ]
  },
  {
   "cell_type": "code",
   "execution_count": null,
   "id": "f340c36e",
   "metadata": {},
   "outputs": [],
   "source": []
  }
 ],
 "metadata": {
  "kernelspec": {
   "display_name": "Python 3 (ipykernel)",
   "language": "python",
   "name": "python3"
  },
  "language_info": {
   "codemirror_mode": {
    "name": "ipython",
    "version": 3
   },
   "file_extension": ".py",
   "mimetype": "text/x-python",
   "name": "python",
   "nbconvert_exporter": "python",
   "pygments_lexer": "ipython3",
   "version": "3.9.7"
  }
 },
 "nbformat": 4,
 "nbformat_minor": 5
}
