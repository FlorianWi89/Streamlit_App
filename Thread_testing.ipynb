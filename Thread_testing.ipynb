{
 "cells": [
  {
   "cell_type": "code",
   "execution_count": 1,
   "id": "ec6a7047",
   "metadata": {},
   "outputs": [],
   "source": [
    "import threading\n",
    "import time"
   ]
  },
  {
   "cell_type": "code",
   "execution_count": 5,
   "id": "38194ad2",
   "metadata": {},
   "outputs": [
    {
     "name": "stdout",
     "output_type": "stream",
     "text": [
      "Starting Thread-1\n",
      "Starting Thread-2\n",
      "Thread-1: Wed Mar 15 17:29:58 2023\n",
      "Thread-1: Wed Mar 15 17:29:59 2023\n",
      "Thread-1: Wed Mar 15 17:30:00 2023\n",
      "Thread-2: Wed Mar 15 17:30:02 2023\n",
      "Thread-2: Wed Mar 15 17:30:04 2023\n",
      "Thread-2: Wed Mar 15 17:30:06 2023\n",
      "Exiting Main Thread\n"
     ]
    }
   ],
   "source": [
    "class myThread (threading.Thread):\n",
    "    def __init__(self, threadID, name, counter):\n",
    "        threading.Thread.__init__(self)\n",
    "        self.threadID = threadID\n",
    "        self.name = name\n",
    "        self.counter = counter\n",
    "    def run(self):\n",
    "        print (\"Starting \" + self.name)\n",
    "        # Get lock to synchronize threads\n",
    "        threadLock.acquire()\n",
    "        print_time(self.name, self.counter, 3)\n",
    "        # Free lock to release next thread\n",
    "        threadLock.release()\n",
    "\n",
    "def print_time(threadName, delay, counter):\n",
    "    while counter:\n",
    "        time.sleep(delay)\n",
    "        print (\"%s: %s\" % (threadName, time.ctime(time.time())))\n",
    "        counter -= 1\n",
    "\n",
    "threadLock = threading.Lock()\n",
    "threads = []\n",
    "\n",
    "# Create new threads\n",
    "thread1 = myThread(1, \"Thread-1\", 1)\n",
    "thread2 = myThread(2, \"Thread-2\", 2)\n",
    "\n",
    "# Start new Threads\n",
    "thread1.start()\n",
    "thread2.start()\n",
    "\n",
    "# Add threads to thread list\n",
    "threads.append(thread1)\n",
    "threads.append(thread2)\n",
    "\n",
    "# Wait for all threads to complete\n",
    "for t in threads:\n",
    "    t.join()\n",
    "print (\"Exiting Main Thread\")\n"
   ]
  },
  {
   "cell_type": "code",
   "execution_count": null,
   "id": "6c302ec1",
   "metadata": {},
   "outputs": [],
   "source": []
  }
 ],
 "metadata": {
  "kernelspec": {
   "display_name": "Python 3 (ipykernel)",
   "language": "python",
   "name": "python3"
  },
  "language_info": {
   "codemirror_mode": {
    "name": "ipython",
    "version": 3
   },
   "file_extension": ".py",
   "mimetype": "text/x-python",
   "name": "python",
   "nbconvert_exporter": "python",
   "pygments_lexer": "ipython3",
   "version": "3.9.7"
  }
 },
 "nbformat": 4,
 "nbformat_minor": 5
}
